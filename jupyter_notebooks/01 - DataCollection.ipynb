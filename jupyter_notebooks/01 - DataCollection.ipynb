{
  "cells": [
    {
      "cell_type": "markdown",
      "metadata": {
        "id": "0aStgWSO0E0E"
      },
      "source": [
        "# **Data Collection Notebook**"
      ]
    },
    {
      "cell_type": "markdown",
      "metadata": {
        "id": "1eLEkw5O0ECa"
      },
      "source": [
        "## Objectives\n",
        "\n",
        "* Write here your notebook objective, for example, \"Fetch data from Kaggle and save as raw data\", or \"engineer features for modelling\"\n",
        "\n",
        "## Inputs\n",
        "\n",
        "* Write here which data or information you need to run the notebook \n",
        "\n",
        "## Outputs\n",
        "\n",
        "* Write here which files, code or artefacts you generate by the end of the notebook \n",
        "\n",
        "## Additional Comments\n",
        "\n",
        "* In case you have any additional comments that don't fit in the previous bullets, please state them here. \n"
      ]
    },
    {
      "cell_type": "markdown",
      "metadata": {
        "id": "9uWZXH9LwoQg"
      },
      "source": [
        "---"
      ]
    },
    {
      "cell_type": "markdown",
      "metadata": {
        "id": "cqP-UeN-z3i2"
      },
      "source": [
        "# Change working directory"
      ]
    },
    {
      "cell_type": "markdown",
      "metadata": {
        "id": "aOGIGS-uz3i2"
      },
      "source": [
        "We need to change the working directory from its current folder to its parent folder\n",
        "* We access the current directory with os.getcwd()"
      ]
    },
    {
      "cell_type": "code",
      "execution_count": 1,
      "metadata": {
        "id": "wZfF_j-Bz3i4",
        "outputId": "66943449-1436-4c3d-85c7-b85f9f78349b"
      },
      "outputs": [
        {
          "data": {
            "text/plain": [
              "'c:\\\\Users\\\\acvo\\\\Documents\\\\vscode-projects\\\\pp5_android_malware_detector\\\\jupyter_notebooks'"
            ]
          },
          "execution_count": 1,
          "metadata": {},
          "output_type": "execute_result"
        }
      ],
      "source": [
        "import os\n",
        "current_dir = os.getcwd()\n",
        "current_dir"
      ]
    },
    {
      "cell_type": "markdown",
      "metadata": {
        "id": "9MWW8E7lz3i7"
      },
      "source": [
        "We want to make the parent of the current directory the new current directory\n",
        "* os.path.dirname() gets the parent directory\n",
        "* os.chir() defines the new current directory"
      ]
    },
    {
      "cell_type": "code",
      "execution_count": 2,
      "metadata": {
        "id": "TwHsQRWjz3i9",
        "outputId": "86849db3-cd2f-4cc5-ebb8-2d0caafa1a2c"
      },
      "outputs": [
        {
          "name": "stdout",
          "output_type": "stream",
          "text": [
            "You set a new current directory\n"
          ]
        }
      ],
      "source": [
        "os.chdir(os.path.dirname(current_dir))\n",
        "print(\"You set a new current directory\")"
      ]
    },
    {
      "cell_type": "markdown",
      "metadata": {
        "id": "M_xPk_Ijz3i-"
      },
      "source": [
        "Confirm the new current directory"
      ]
    },
    {
      "cell_type": "code",
      "execution_count": 3,
      "metadata": {
        "id": "vz3S-_kjz3jA",
        "outputId": "00b79ae4-75d0-4a96-d193-ac9ef9847ea2"
      },
      "outputs": [
        {
          "data": {
            "text/plain": [
              "'c:\\\\Users\\\\acvo\\\\Documents\\\\vscode-projects\\\\pp5_android_malware_detector'"
            ]
          },
          "execution_count": 3,
          "metadata": {},
          "output_type": "execute_result"
        }
      ],
      "source": [
        "current_dir = os.getcwd()\n",
        "current_dir"
      ]
    },
    {
      "cell_type": "markdown",
      "metadata": {
        "id": "-mavJ8DibrcQ"
      },
      "source": [
        "# Fetch Dataset from Kaggle"
      ]
    },
    {
      "cell_type": "markdown",
      "metadata": {},
      "source": [
        "* Drag kaggle.json file into root directory"
      ]
    },
    {
      "cell_type": "markdown",
      "metadata": {},
      "source": [
        "* Check for kaggle.json file to allow authentication"
      ]
    },
    {
      "cell_type": "markdown",
      "metadata": {},
      "source": [
        "Get token recognised for this session"
      ]
    },
    {
      "cell_type": "code",
      "execution_count": 4,
      "metadata": {},
      "outputs": [],
      "source": [
        "import os\n",
        "os.environ['KAGGLE_CONFIG_DIR'] = os.getcwd()"
      ]
    },
    {
      "cell_type": "markdown",
      "metadata": {},
      "source": [
        "* The following dataset is used in this project: [Kaggle Android Malware Detection URL](https://www.kaggle.com/datasets/subhajournal/android-malware-detection)"
      ]
    },
    {
      "cell_type": "markdown",
      "metadata": {},
      "source": [
        "Get the path from the dataset URL. Define the dataset, add destination folder and download dataset"
      ]
    },
    {
      "cell_type": "code",
      "execution_count": 5,
      "metadata": {},
      "outputs": [
        {
          "name": "stdout",
          "output_type": "stream",
          "text": [
            "Dataset URL: https://www.kaggle.com/datasets/subhajournal/android-malware-detection\n",
            "License(s): GNU Affero General Public License 3.0\n",
            "Downloading android-malware-detection.zip to inputs/datasets/raw\n",
            "\n"
          ]
        },
        {
          "name": "stderr",
          "output_type": "stream",
          "text": [
            "\n",
            "  0%|          | 0.00/45.1M [00:00<?, ?B/s]\n",
            "100%|██████████| 45.1M/45.1M [00:00<00:00, 524MB/s]\n"
          ]
        }
      ],
      "source": [
        "# Define path\n",
        "KaggleDatasetPath = \"subhajournal/android-malware-detection\"\n",
        "DestinationFolder = \"inputs/datasets/raw\"\n",
        "\n",
        "# Check for destination folder or create it\n",
        "os.makedirs(DestinationFolder, exist_ok=True)\n",
        "\n",
        "# Download the dataset\n",
        "! kaggle datasets download -d {KaggleDatasetPath} -p {DestinationFolder}"
      ]
    },
    {
      "cell_type": "markdown",
      "metadata": {},
      "source": [
        "Unzip the downloaded zip dataset file, delete the zip and kaggle.json file"
      ]
    },
    {
      "cell_type": "code",
      "execution_count": 6,
      "metadata": {},
      "outputs": [],
      "source": [
        "import os, glob, zipfile\n",
        "\n",
        "# Extract dataset zip file\n",
        "zip_path = glob.glob('inputs/datasets/raw/*.zip')[0]\n",
        "with zipfile.ZipFile(zip_path, 'r') as z: z.extractall('inputs/datasets/raw')\n",
        "\n",
        "# Delete dataset zip file\n",
        "os.remove(zip_path)\n",
        "\n",
        "# Delete kaggle.json\n",
        "if os.path.exists('kaggle.json'): os.remove('kaggle.json')"
      ]
    },
    {
      "cell_type": "markdown",
      "metadata": {
        "id": "ZY3l0-AxO93d"
      },
      "source": [
        "---"
      ]
    },
    {
      "cell_type": "markdown",
      "metadata": {
        "id": "uFQo3ycuO-v6"
      },
      "source": [
        "# Load and Inspect Dataset"
      ]
    },
    {
      "cell_type": "markdown",
      "metadata": {},
      "source": [
        "Load the dataset and get overview of first to rows"
      ]
    },
    {
      "cell_type": "code",
      "execution_count": 7,
      "metadata": {},
      "outputs": [
        {
          "name": "stderr",
          "output_type": "stream",
          "text": [
            "C:\\Users\\acvo\\AppData\\Local\\Temp\\ipykernel_21344\\3572949033.py:4: DtypeWarning: Columns (56,58,63) have mixed types. Specify dtype option on import or set low_memory=False.\n",
            "  df = pd.read_csv(f\"inputs/datasets/raw/Android_Malware.csv\")\n"
          ]
        },
        {
          "data": {
            "text/html": [
              "<div>\n",
              "<style scoped>\n",
              "    .dataframe tbody tr th:only-of-type {\n",
              "        vertical-align: middle;\n",
              "    }\n",
              "\n",
              "    .dataframe tbody tr th {\n",
              "        vertical-align: top;\n",
              "    }\n",
              "\n",
              "    .dataframe thead th {\n",
              "        text-align: right;\n",
              "    }\n",
              "</style>\n",
              "<table border=\"1\" class=\"dataframe\">\n",
              "  <thead>\n",
              "    <tr style=\"text-align: right;\">\n",
              "      <th></th>\n",
              "      <th>Unnamed: 0</th>\n",
              "      <th>Flow ID</th>\n",
              "      <th>Source IP</th>\n",
              "      <th>Source Port</th>\n",
              "      <th>Destination IP</th>\n",
              "      <th>Destination Port</th>\n",
              "      <th>Protocol</th>\n",
              "      <th>Timestamp</th>\n",
              "      <th>Flow Duration</th>\n",
              "      <th>Total Fwd Packets</th>\n",
              "      <th>...</th>\n",
              "      <th>min_seg_size_forward</th>\n",
              "      <th>Active Mean</th>\n",
              "      <th>Active Std</th>\n",
              "      <th>Active Max</th>\n",
              "      <th>Active Min</th>\n",
              "      <th>Idle Mean</th>\n",
              "      <th>Idle Std</th>\n",
              "      <th>Idle Max</th>\n",
              "      <th>Idle Min</th>\n",
              "      <th>Label</th>\n",
              "    </tr>\n",
              "  </thead>\n",
              "  <tbody>\n",
              "    <tr>\n",
              "      <th>0</th>\n",
              "      <td>0</td>\n",
              "      <td>172.217.6.202-10.42.0.211-443-50004-6</td>\n",
              "      <td>10.42.0.211</td>\n",
              "      <td>50004</td>\n",
              "      <td>172.217.6.202</td>\n",
              "      <td>443.0</td>\n",
              "      <td>6.0</td>\n",
              "      <td>13/06/2017 11:52:39</td>\n",
              "      <td>37027</td>\n",
              "      <td>1</td>\n",
              "      <td>...</td>\n",
              "      <td>32.0</td>\n",
              "      <td>0.0</td>\n",
              "      <td>0.0</td>\n",
              "      <td>0.0</td>\n",
              "      <td>0.0</td>\n",
              "      <td>0.0</td>\n",
              "      <td>0.0</td>\n",
              "      <td>0.0</td>\n",
              "      <td>0.0</td>\n",
              "      <td>Android_Adware</td>\n",
              "    </tr>\n",
              "    <tr>\n",
              "      <th>1</th>\n",
              "      <td>1</td>\n",
              "      <td>172.217.6.202-10.42.0.211-443-35455-6</td>\n",
              "      <td>10.42.0.211</td>\n",
              "      <td>35455</td>\n",
              "      <td>172.217.6.202</td>\n",
              "      <td>443.0</td>\n",
              "      <td>6.0</td>\n",
              "      <td>13/06/2017 11:52:39</td>\n",
              "      <td>36653</td>\n",
              "      <td>1</td>\n",
              "      <td>...</td>\n",
              "      <td>32.0</td>\n",
              "      <td>0.0</td>\n",
              "      <td>0.0</td>\n",
              "      <td>0.0</td>\n",
              "      <td>0.0</td>\n",
              "      <td>0.0</td>\n",
              "      <td>0.0</td>\n",
              "      <td>0.0</td>\n",
              "      <td>0.0</td>\n",
              "      <td>Android_Adware</td>\n",
              "    </tr>\n",
              "    <tr>\n",
              "      <th>2</th>\n",
              "      <td>2</td>\n",
              "      <td>131.253.61.68-10.42.0.211-443-51775-6</td>\n",
              "      <td>10.42.0.211</td>\n",
              "      <td>51775</td>\n",
              "      <td>131.253.61.68</td>\n",
              "      <td>443.0</td>\n",
              "      <td>6.0</td>\n",
              "      <td>13/06/2017 11:52:42</td>\n",
              "      <td>534099</td>\n",
              "      <td>8</td>\n",
              "      <td>...</td>\n",
              "      <td>20.0</td>\n",
              "      <td>0.0</td>\n",
              "      <td>0.0</td>\n",
              "      <td>0.0</td>\n",
              "      <td>0.0</td>\n",
              "      <td>0.0</td>\n",
              "      <td>0.0</td>\n",
              "      <td>0.0</td>\n",
              "      <td>0.0</td>\n",
              "      <td>Android_Adware</td>\n",
              "    </tr>\n",
              "    <tr>\n",
              "      <th>3</th>\n",
              "      <td>3</td>\n",
              "      <td>131.253.61.68-10.42.0.211-443-51775-6</td>\n",
              "      <td>10.42.0.211</td>\n",
              "      <td>51775</td>\n",
              "      <td>131.253.61.68</td>\n",
              "      <td>443.0</td>\n",
              "      <td>6.0</td>\n",
              "      <td>13/06/2017 11:52:43</td>\n",
              "      <td>9309</td>\n",
              "      <td>3</td>\n",
              "      <td>...</td>\n",
              "      <td>20.0</td>\n",
              "      <td>0.0</td>\n",
              "      <td>0.0</td>\n",
              "      <td>0.0</td>\n",
              "      <td>0.0</td>\n",
              "      <td>0.0</td>\n",
              "      <td>0.0</td>\n",
              "      <td>0.0</td>\n",
              "      <td>0.0</td>\n",
              "      <td>Android_Adware</td>\n",
              "    </tr>\n",
              "    <tr>\n",
              "      <th>4</th>\n",
              "      <td>4</td>\n",
              "      <td>131.253.61.68-10.42.0.211-443-51776-6</td>\n",
              "      <td>10.42.0.211</td>\n",
              "      <td>51776</td>\n",
              "      <td>131.253.61.68</td>\n",
              "      <td>443.0</td>\n",
              "      <td>6.0</td>\n",
              "      <td>13/06/2017 11:52:42</td>\n",
              "      <td>19890496</td>\n",
              "      <td>8</td>\n",
              "      <td>...</td>\n",
              "      <td>20.0</td>\n",
              "      <td>0.0</td>\n",
              "      <td>0.0</td>\n",
              "      <td>0.0</td>\n",
              "      <td>0.0</td>\n",
              "      <td>0.0</td>\n",
              "      <td>0.0</td>\n",
              "      <td>0.0</td>\n",
              "      <td>0.0</td>\n",
              "      <td>Android_Adware</td>\n",
              "    </tr>\n",
              "  </tbody>\n",
              "</table>\n",
              "<p>5 rows × 86 columns</p>\n",
              "</div>"
            ],
            "text/plain": [
              "   Unnamed: 0                                Flow ID    Source IP  \\\n",
              "0           0  172.217.6.202-10.42.0.211-443-50004-6  10.42.0.211   \n",
              "1           1  172.217.6.202-10.42.0.211-443-35455-6  10.42.0.211   \n",
              "2           2  131.253.61.68-10.42.0.211-443-51775-6  10.42.0.211   \n",
              "3           3  131.253.61.68-10.42.0.211-443-51775-6  10.42.0.211   \n",
              "4           4  131.253.61.68-10.42.0.211-443-51776-6  10.42.0.211   \n",
              "\n",
              "    Source Port  Destination IP   Destination Port   Protocol  \\\n",
              "0         50004   172.217.6.202              443.0        6.0   \n",
              "1         35455   172.217.6.202              443.0        6.0   \n",
              "2         51775   131.253.61.68              443.0        6.0   \n",
              "3         51775   131.253.61.68              443.0        6.0   \n",
              "4         51776   131.253.61.68              443.0        6.0   \n",
              "\n",
              "             Timestamp   Flow Duration   Total Fwd Packets  ...  \\\n",
              "0  13/06/2017 11:52:39           37027                   1  ...   \n",
              "1  13/06/2017 11:52:39           36653                   1  ...   \n",
              "2  13/06/2017 11:52:42          534099                   8  ...   \n",
              "3  13/06/2017 11:52:43            9309                   3  ...   \n",
              "4  13/06/2017 11:52:42        19890496                   8  ...   \n",
              "\n",
              "    min_seg_size_forward  Active Mean   Active Std   Active Max   Active Min  \\\n",
              "0                   32.0          0.0          0.0          0.0          0.0   \n",
              "1                   32.0          0.0          0.0          0.0          0.0   \n",
              "2                   20.0          0.0          0.0          0.0          0.0   \n",
              "3                   20.0          0.0          0.0          0.0          0.0   \n",
              "4                   20.0          0.0          0.0          0.0          0.0   \n",
              "\n",
              "   Idle Mean   Idle Std   Idle Max   Idle Min           Label  \n",
              "0        0.0        0.0        0.0        0.0  Android_Adware  \n",
              "1        0.0        0.0        0.0        0.0  Android_Adware  \n",
              "2        0.0        0.0        0.0        0.0  Android_Adware  \n",
              "3        0.0        0.0        0.0        0.0  Android_Adware  \n",
              "4        0.0        0.0        0.0        0.0  Android_Adware  \n",
              "\n",
              "[5 rows x 86 columns]"
            ]
          },
          "execution_count": 7,
          "metadata": {},
          "output_type": "execute_result"
        }
      ],
      "source": [
        "import pandas as pd\n",
        "\n",
        "# Load dataset\n",
        "df = pd.read_csv(f\"inputs/datasets/raw/Android_Malware.csv\")\n",
        "\n",
        "# Show first 5 rows of dataset\n",
        "df.head()"
      ]
    },
    {
      "cell_type": "markdown",
      "metadata": {},
      "source": [
        "Get a dataframe summary (datatypes)"
      ]
    },
    {
      "cell_type": "code",
      "execution_count": 8,
      "metadata": {},
      "outputs": [
        {
          "name": "stdout",
          "output_type": "stream",
          "text": [
            "<class 'pandas.core.frame.DataFrame'>\n",
            "RangeIndex: 355630 entries, 0 to 355629\n",
            "Data columns (total 86 columns):\n",
            " #   Column                        Non-Null Count   Dtype  \n",
            "---  ------                        --------------   -----  \n",
            " 0   Unnamed: 0                    355630 non-null  int64  \n",
            " 1   Flow ID                       355629 non-null  object \n",
            " 2    Source IP                    355630 non-null  object \n",
            " 3    Source Port                  355630 non-null  int64  \n",
            " 4    Destination IP               355630 non-null  object \n",
            " 5    Destination Port             355630 non-null  float64\n",
            " 6    Protocol                     355630 non-null  float64\n",
            " 7    Timestamp                    355630 non-null  object \n",
            " 8    Flow Duration                355630 non-null  int64  \n",
            " 9    Total Fwd Packets            355630 non-null  int64  \n",
            " 10   Total Backward Packets       355630 non-null  int64  \n",
            " 11  Total Length of Fwd Packets   355630 non-null  float64\n",
            " 12   Total Length of Bwd Packets  355630 non-null  float64\n",
            " 13   Fwd Packet Length Max        355630 non-null  float64\n",
            " 14   Fwd Packet Length Min        355630 non-null  float64\n",
            " 15   Fwd Packet Length Mean       355630 non-null  float64\n",
            " 16   Fwd Packet Length Std        355630 non-null  float64\n",
            " 17  Bwd Packet Length Max         355630 non-null  float64\n",
            " 18   Bwd Packet Length Min        355630 non-null  float64\n",
            " 19   Bwd Packet Length Mean       355630 non-null  float64\n",
            " 20   Bwd Packet Length Std        355630 non-null  float64\n",
            " 21  Flow Bytes/s                  355630 non-null  float64\n",
            " 22   Flow Packets/s               355630 non-null  float64\n",
            " 23   Flow IAT Mean                355630 non-null  float64\n",
            " 24   Flow IAT Std                 355630 non-null  float64\n",
            " 25   Flow IAT Max                 355630 non-null  float64\n",
            " 26   Flow IAT Min                 355630 non-null  float64\n",
            " 27  Fwd IAT Total                 355630 non-null  float64\n",
            " 28   Fwd IAT Mean                 355630 non-null  float64\n",
            " 29   Fwd IAT Std                  355630 non-null  float64\n",
            " 30   Fwd IAT Max                  355630 non-null  float64\n",
            " 31   Fwd IAT Min                  355630 non-null  float64\n",
            " 32  Bwd IAT Total                 355630 non-null  float64\n",
            " 33   Bwd IAT Mean                 355630 non-null  float64\n",
            " 34   Bwd IAT Std                  355630 non-null  float64\n",
            " 35   Bwd IAT Max                  355630 non-null  float64\n",
            " 36   Bwd IAT Min                  355630 non-null  float64\n",
            " 37  Fwd PSH Flags                 355630 non-null  float64\n",
            " 38   Bwd PSH Flags                355630 non-null  float64\n",
            " 39   Fwd URG Flags                355630 non-null  int64  \n",
            " 40   Bwd URG Flags                355630 non-null  int64  \n",
            " 41   Fwd Header Length            355630 non-null  int64  \n",
            " 42   Bwd Header Length            355630 non-null  int64  \n",
            " 43  Fwd Packets/s                 355630 non-null  float64\n",
            " 44   Bwd Packets/s                355629 non-null  float64\n",
            " 45   Min Packet Length            355629 non-null  float64\n",
            " 46   Max Packet Length            355629 non-null  float64\n",
            " 47   Packet Length Mean           355629 non-null  float64\n",
            " 48   Packet Length Std            355629 non-null  float64\n",
            " 49   Packet Length Variance       355629 non-null  float64\n",
            " 50  FIN Flag Count                355629 non-null  float64\n",
            " 51   SYN Flag Count               355629 non-null  float64\n",
            " 52   RST Flag Count               355629 non-null  float64\n",
            " 53   PSH Flag Count               355629 non-null  float64\n",
            " 54   ACK Flag Count               355629 non-null  float64\n",
            " 55   URG Flag Count               355629 non-null  float64\n",
            " 56   CWE Flag Count               355629 non-null  object \n",
            " 57   ECE Flag Count               355628 non-null  float64\n",
            " 58   Down/Up Ratio                355628 non-null  object \n",
            " 59   Average Packet Size          355627 non-null  float64\n",
            " 60   Avg Fwd Segment Size         355627 non-null  float64\n",
            " 61   Avg Bwd Segment Size         355627 non-null  float64\n",
            " 62   Fwd Header Length.1          355627 non-null  float64\n",
            " 63  Fwd Avg Bytes/Bulk            355627 non-null  object \n",
            " 64   Fwd Avg Packets/Bulk         355626 non-null  float64\n",
            " 65   Fwd Avg Bulk Rate            355626 non-null  float64\n",
            " 66   Bwd Avg Bytes/Bulk           355626 non-null  float64\n",
            " 67   Bwd Avg Packets/Bulk         355626 non-null  float64\n",
            " 68  Bwd Avg Bulk Rate             355626 non-null  float64\n",
            " 69  Subflow Fwd Packets           355626 non-null  float64\n",
            " 70   Subflow Fwd Bytes            355626 non-null  float64\n",
            " 71   Subflow Bwd Packets          355626 non-null  float64\n",
            " 72   Subflow Bwd Bytes            355626 non-null  float64\n",
            " 73  Init_Win_bytes_forward        355626 non-null  float64\n",
            " 74   Init_Win_bytes_backward      355626 non-null  float64\n",
            " 75   act_data_pkt_fwd             355626 non-null  float64\n",
            " 76   min_seg_size_forward         355626 non-null  float64\n",
            " 77  Active Mean                   355626 non-null  float64\n",
            " 78   Active Std                   355626 non-null  float64\n",
            " 79   Active Max                   355626 non-null  float64\n",
            " 80   Active Min                   355626 non-null  float64\n",
            " 81  Idle Mean                     355626 non-null  float64\n",
            " 82   Idle Std                     355626 non-null  float64\n",
            " 83   Idle Max                     355626 non-null  float64\n",
            " 84   Idle Min                     355626 non-null  float64\n",
            " 85  Label                         355630 non-null  object \n",
            "dtypes: float64(69), int64(9), object(8)\n",
            "memory usage: 233.3+ MB\n"
          ]
        }
      ],
      "source": [
        "df.info()"
      ]
    },
    {
      "cell_type": "markdown",
      "metadata": {},
      "source": [
        "Check for missing values in all columns"
      ]
    },
    {
      "cell_type": "code",
      "execution_count": 9,
      "metadata": {},
      "outputs": [
        {
          "data": {
            "text/plain": [
              "Unnamed: 0         0\n",
              "Flow ID            1\n",
              " Source IP         0\n",
              " Source Port       0\n",
              " Destination IP    0\n",
              "                  ..\n",
              "Idle Mean          4\n",
              " Idle Std          4\n",
              " Idle Max          4\n",
              " Idle Min          4\n",
              "Label              0\n",
              "Length: 86, dtype: int64"
            ]
          },
          "execution_count": 9,
          "metadata": {},
          "output_type": "execute_result"
        }
      ],
      "source": [
        "df.isnull().sum()"
      ]
    },
    {
      "cell_type": "markdown",
      "metadata": {},
      "source": []
    },
    {
      "cell_type": "markdown",
      "metadata": {},
      "source": [
        "---"
      ]
    },
    {
      "cell_type": "markdown",
      "metadata": {},
      "source": [
        "NOTE"
      ]
    },
    {
      "cell_type": "markdown",
      "metadata": {},
      "source": [
        "* You may add as many sections as you want, as long as it supports your project workflow.\n",
        "* All notebook's cells should be run top-down (you can't create a dynamic wherein a given point you need to go back to a previous cell to execute some task, like go back to a previous cell and refresh a variable content)"
      ]
    },
    {
      "cell_type": "markdown",
      "metadata": {},
      "source": [
        "---"
      ]
    },
    {
      "cell_type": "markdown",
      "metadata": {
        "id": "ltNetd085qHf"
      },
      "source": [
        "# Conclusions and Next Steps"
      ]
    },
    {
      "cell_type": "markdown",
      "metadata": {},
      "source": [
        "* Loading the Dataset from Kaggle worked as expected and a working Android_Malware.csv was extracted for further data analysis"
      ]
    },
    {
      "cell_type": "markdown",
      "metadata": {},
      "source": [
        "* In the next notebook, an EDA should be used to further analyse the dataset for conclusions and insights"
      ]
    },
    {
      "cell_type": "markdown",
      "metadata": {},
      "source": [
        "* Further analysis allows to move on to data cleaning and the later use of the data for building an ML model"
      ]
    }
  ],
  "metadata": {
    "accelerator": "GPU",
    "colab": {
      "name": "Data Practitioner Jupyter Notebook.ipynb",
      "provenance": [],
      "toc_visible": true
    },
    "kernelspec": {
      "display_name": ".venv",
      "language": "python",
      "name": "python3"
    },
    "language_info": {
      "codemirror_mode": {
        "name": "ipython",
        "version": 3
      },
      "file_extension": ".py",
      "mimetype": "text/x-python",
      "name": "python",
      "nbconvert_exporter": "python",
      "pygments_lexer": "ipython3",
      "version": "3.12.8"
    },
    "orig_nbformat": 2
  },
  "nbformat": 4,
  "nbformat_minor": 2
}
