{
  "cells": [
    {
      "cell_type": "markdown",
      "metadata": {
        "id": "0aStgWSO0E0E"
      },
      "source": [
        "# **Data Collection Notebook**"
      ]
    },
    {
      "cell_type": "markdown",
      "metadata": {
        "id": "1eLEkw5O0ECa"
      },
      "source": [
        "## Objectives\n",
        "\n",
        "* Check for Kaggle authentification and fetch dataset from Kaggle. Save as raw data in extracted csv file.\n",
        "\n",
        "## Inputs\n",
        "\n",
        "* Android_Malware.csv\n",
        "\n",
        "## Outputs\n",
        "\n",
        "* None\n",
        "\n",
        "## Additional Comments\n",
        "\n",
        "* The dataset is originally saved as a zip file when fetching from Kaggle. This zip file is then extracted before being deleted. For a certain part of the code, the zip file is part of the needed inputs for running the code. This is obsolete after extracting and saving the file as csv.\n"
      ]
    },
    {
      "cell_type": "markdown",
      "metadata": {
        "id": "9uWZXH9LwoQg"
      },
      "source": [
        "---"
      ]
    },
    {
      "cell_type": "markdown",
      "metadata": {
        "id": "cqP-UeN-z3i2"
      },
      "source": [
        "# Set Project Root Directory"
      ]
    },
    {
      "cell_type": "markdown",
      "metadata": {
        "id": "M_xPk_Ijz3i-"
      },
      "source": [
        "Centralise the base path using project_root"
      ]
    },
    {
      "cell_type": "code",
      "execution_count": null,
      "metadata": {},
      "outputs": [],
      "source": [
        "import os\n",
        "from pathlib import Path\n",
        "\n",
        "# Resolve the project root\n",
        "project_root = Path.cwd()\n",
        "if project_root.name == \"jupyter_notebooks\":\n",
        "    project_root = project_root.parent"
      ]
    },
    {
      "cell_type": "markdown",
      "metadata": {
        "id": "-mavJ8DibrcQ"
      },
      "source": [
        "# Fetch Dataset from Kaggle"
      ]
    },
    {
      "cell_type": "markdown",
      "metadata": {},
      "source": [
        "* In this section, the chosen dataset is fetched via Kaggle API as a zip file. The zip file is then extracted as a csv file and deleted. Authentification for Kaggle is also deleted as it is no longer needed. "
      ]
    },
    {
      "cell_type": "markdown",
      "metadata": {},
      "source": [
        "Setup for Kaggle authentification"
      ]
    },
    {
      "cell_type": "markdown",
      "metadata": {},
      "source": [
        "* Check local machine for kaggle.json file to allow authentication"
      ]
    },
    {
      "cell_type": "markdown",
      "metadata": {},
      "source": [
        "* Drag kaggle.json file into root directory"
      ]
    },
    {
      "cell_type": "markdown",
      "metadata": {},
      "source": [
        "Get token recognised for this session"
      ]
    },
    {
      "cell_type": "code",
      "execution_count": null,
      "metadata": {},
      "outputs": [],
      "source": [
        "import os\n",
        "os.environ['KAGGLE_CONFIG_DIR'] = os.getcwd()"
      ]
    },
    {
      "cell_type": "markdown",
      "metadata": {},
      "source": [
        "The following dataset is used in this project: [Kaggle Android Malware Detection URL](https://www.kaggle.com/datasets/subhajournal/android-malware-detection)"
      ]
    },
    {
      "cell_type": "markdown",
      "metadata": {},
      "source": [
        "Get the path from the dataset URL. Define the dataset, add destination folder and download dataset"
      ]
    },
    {
      "cell_type": "code",
      "execution_count": null,
      "metadata": {},
      "outputs": [],
      "source": [
        "# Define path\n",
        "KaggleDatasetPath = \"subhajournal/android-malware-detection\"\n",
        "DestinationFolder = \"inputs/datasets/raw\"\n",
        "\n",
        "# Check for destination folder or create it\n",
        "os.makedirs(DestinationFolder, exist_ok=True)\n",
        "\n",
        "# Download the dataset\n",
        "! kaggle datasets download -d {KaggleDatasetPath} -p {DestinationFolder}"
      ]
    },
    {
      "cell_type": "markdown",
      "metadata": {},
      "source": [
        "Unzip the downloaded zip dataset file, delete the zip and kaggle.json file"
      ]
    },
    {
      "cell_type": "code",
      "execution_count": null,
      "metadata": {},
      "outputs": [],
      "source": [
        "import os, glob, zipfile\n",
        "\n",
        "# Extract dataset zip file\n",
        "zip_path = glob.glob('inputs/datasets/raw/*.zip')[0]\n",
        "with zipfile.ZipFile(zip_path, 'r') as z: z.extractall('inputs/datasets/raw')\n",
        "\n",
        "# Delete dataset zip file\n",
        "os.remove(zip_path)\n",
        "\n",
        "# Delete kaggle.json\n",
        "if os.path.exists('kaggle.json'): os.remove('kaggle.json')"
      ]
    },
    {
      "cell_type": "markdown",
      "metadata": {
        "id": "ZY3l0-AxO93d"
      },
      "source": [
        "---"
      ]
    },
    {
      "cell_type": "markdown",
      "metadata": {
        "id": "uFQo3ycuO-v6"
      },
      "source": [
        "# Load and Inspect Dataset"
      ]
    },
    {
      "cell_type": "markdown",
      "metadata": {},
      "source": [
        "* In this section, the dataset is loaded and inspected to check that collecting and extracting the dataset works as expected."
      ]
    },
    {
      "cell_type": "markdown",
      "metadata": {},
      "source": [
        "Load the dataset and get overview of first to rows"
      ]
    },
    {
      "cell_type": "code",
      "execution_count": null,
      "metadata": {},
      "outputs": [],
      "source": [
        "import pandas as pd\n",
        "\n",
        "# Load dataset\n",
        "df = pd.read_csv(Path.cwd().parent / \"inputs\" / \"datasets\" / \"raw\" / \"Android_Malware.csv\")\n",
        "\n",
        "# Show first 5 rows of dataset\n",
        "df.head()"
      ]
    },
    {
      "cell_type": "markdown",
      "metadata": {},
      "source": [
        "Get a dataframe summary (datatypes)"
      ]
    },
    {
      "cell_type": "code",
      "execution_count": null,
      "metadata": {},
      "outputs": [],
      "source": [
        "df.info()"
      ]
    },
    {
      "cell_type": "markdown",
      "metadata": {},
      "source": [
        "---"
      ]
    },
    {
      "cell_type": "markdown",
      "metadata": {
        "id": "ltNetd085qHf"
      },
      "source": [
        "# Conclusions and Next Steps"
      ]
    },
    {
      "cell_type": "markdown",
      "metadata": {},
      "source": [
        "* Loading the Dataset from Kaggle worked as expected and a working Android_Malware.csv was extracted for further data analysis"
      ]
    },
    {
      "cell_type": "markdown",
      "metadata": {},
      "source": [
        "* In the next notebook, an EDA should be used to further analyse the dataset for conclusions and insights"
      ]
    },
    {
      "cell_type": "markdown",
      "metadata": {},
      "source": [
        "* Further analysis allows to move on to data cleaning and the later use of the data for building an ML model"
      ]
    }
  ],
  "metadata": {
    "accelerator": "GPU",
    "colab": {
      "name": "Data Practitioner Jupyter Notebook.ipynb",
      "provenance": [],
      "toc_visible": true
    },
    "kernelspec": {
      "display_name": ".venv",
      "language": "python",
      "name": "python3"
    },
    "language_info": {
      "codemirror_mode": {
        "name": "ipython",
        "version": 3
      },
      "file_extension": ".py",
      "mimetype": "text/x-python",
      "name": "python",
      "nbconvert_exporter": "python",
      "pygments_lexer": "ipython3",
      "version": "3.12.8"
    },
    "orig_nbformat": 2
  },
  "nbformat": 4,
  "nbformat_minor": 2
}
