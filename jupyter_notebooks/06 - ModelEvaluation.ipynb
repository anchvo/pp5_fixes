{
  "cells": [
    {
      "cell_type": "markdown",
      "metadata": {
        "id": "0aStgWSO0E0E"
      },
      "source": [
        "# **MODEL EVALUATION NOTEBOOK**"
      ]
    },
    {
      "cell_type": "markdown",
      "metadata": {
        "id": "1eLEkw5O0ECa"
      },
      "source": [
        "## Objectives\n",
        "\n",
        "* Write here your notebook objective, for example, \"Fetch data from Kaggle and save as raw data\", or \"engineer features for modelling\"\n",
        "\n",
        "## Inputs\n",
        "\n",
        "* Write here which data or information you need to run the notebook \n",
        "\n",
        "## Outputs\n",
        "\n",
        "* Write here which files, code or artefacts you generate by the end of the notebook \n",
        "\n",
        "## Additional Comments\n",
        "\n",
        "* In case you have any additional comments that don't fit in the previous bullets, please state them here. \n"
      ]
    },
    {
      "cell_type": "markdown",
      "metadata": {
        "id": "9uWZXH9LwoQg"
      },
      "source": [
        "---"
      ]
    },
    {
      "cell_type": "markdown",
      "metadata": {
        "id": "cqP-UeN-z3i2"
      },
      "source": [
        "# Change working directory"
      ]
    },
    {
      "cell_type": "code",
      "execution_count": null,
      "metadata": {
        "id": "vz3S-_kjz3jA",
        "outputId": "00b79ae4-75d0-4a96-d193-ac9ef9847ea2"
      },
      "outputs": [],
      "source": [
        "import os\n",
        "from pathlib import Path\n",
        "\n",
        "# Resolve the project root\n",
        "project_root = Path.cwd()\n",
        "if project_root.name == \"jupyter_notebooks\":\n",
        "    project_root = project_root.parent"
      ]
    },
    {
      "cell_type": "markdown",
      "metadata": {
        "id": "-mavJ8DibrcQ"
      },
      "source": [
        "# Import Libraries"
      ]
    },
    {
      "cell_type": "markdown",
      "metadata": {},
      "source": [
        "In this section, all necessary standard libaries are imported to allow using their functions."
      ]
    },
    {
      "cell_type": "markdown",
      "metadata": {},
      "source": [
        "Import Libraries with necessary Settings"
      ]
    },
    {
      "cell_type": "code",
      "execution_count": null,
      "metadata": {},
      "outputs": [],
      "source": [
        "# Standard libraries\n",
        "import pandas as pd\n",
        "import numpy as np\n",
        "import matplotlib.pyplot as plt\n",
        "import seaborn as sns\n",
        "\n",
        "import joblib\n",
        "from sklearn.metrics import confusion_matrix, ConfusionMatrixDisplay\n",
        "\n",
        "# Settings\n",
        "%matplotlib inline\n",
        "sns.set(style=\"whitegrid\")"
      ]
    },
    {
      "cell_type": "markdown",
      "metadata": {
        "id": "ZY3l0-AxO93d"
      },
      "source": [
        "---"
      ]
    },
    {
      "cell_type": "markdown",
      "metadata": {
        "id": "uFQo3ycuO-v6"
      },
      "source": [
        "# Load Model Evaluation Results & Train and Test Sets"
      ]
    },
    {
      "cell_type": "markdown",
      "metadata": {},
      "source": [
        "In this section, the model evaluation results are loaded to be able to access the prepared data."
      ]
    },
    {
      "cell_type": "code",
      "execution_count": null,
      "metadata": {},
      "outputs": [],
      "source": [
        "evaluation_path = project_root / \"outputs\" / \"evaluation\"\n",
        "\n",
        "df_training = pd.read_csv(evaluation_path / \"model_training_results.csv\")\n",
        "df_tuning = pd.read_csv(evaluation_path / \"model_tuning_results.csv\")\n",
        "df_fe = pd.read_csv(evaluation_path / \"best_model_fe_results.csv\")\n",
        "df_final = pd.read_csv(evaluation_path / \"best_model_final_results.csv\")\n",
        "\n",
        "\n",
        "data_path = project_root / \"outputs\" / \"data\"\n",
        "\n",
        "X_test = pd.read_csv(data_path / \"X_test.csv\")\n",
        "X_test_scaled = pd.read_csv(data_path / \"X_test_scaled.csv\")\n",
        "X_train = pd.read_csv(data_path / \"X_train.csv\")\n",
        "X_train_resampled = pd.read_csv(data_path / \"X_train_resampled.csv\")\n",
        "X_train_scaled = pd.read_csv(data_path / \"X_train_scaled.csv\")\n",
        "y_test = pd.read_csv(data_path / \"y_test.csv\")\n",
        "y_train = pd.read_csv(data_path / \"y_train.csv\")\n",
        "y_train_resampled = pd.read_csv(data_path / \"y_train_resampled.csv\")"
      ]
    },
    {
      "cell_type": "markdown",
      "metadata": {},
      "source": [
        "---"
      ]
    },
    {
      "cell_type": "markdown",
      "metadata": {},
      "source": [
        "# Prepare Results for Visualisation"
      ]
    },
    {
      "cell_type": "markdown",
      "metadata": {},
      "source": [
        "In this section, "
      ]
    },
    {
      "cell_type": "code",
      "execution_count": null,
      "metadata": {},
      "outputs": [],
      "source": [
        "# Add a column to indicate the stage\n",
        "df_training['stage'] = 'Baseline'\n",
        "df_tuning['stage'] = 'Tuning'\n",
        "df_fe['stage'] = 'Feature Engineering'\n",
        "df_final['stage'] = 'Final Test'\n",
        "\n",
        "# Combine all into one\n",
        "df_all = pd.concat([df_training, df_tuning, df_fe, df_final], ignore_index=True)\n",
        "\n",
        "# Clean model names\n",
        "df_all['Model'] = df_all['Model'].str.replace(\"_\", \" \").str.title()"
      ]
    },
    {
      "cell_type": "markdown",
      "metadata": {},
      "source": [
        "* "
      ]
    },
    {
      "cell_type": "markdown",
      "metadata": {},
      "source": [
        "---"
      ]
    },
    {
      "cell_type": "markdown",
      "metadata": {},
      "source": [
        "# Visualisations"
      ]
    },
    {
      "cell_type": "markdown",
      "metadata": {},
      "source": [
        "In this section, "
      ]
    },
    {
      "cell_type": "markdown",
      "metadata": {},
      "source": [
        "Set general file path for saving plots"
      ]
    },
    {
      "cell_type": "code",
      "execution_count": null,
      "metadata": {},
      "outputs": [],
      "source": [
        "figure_path = project_root / \"outputs\" / \"eda\" / \"figures\""
      ]
    },
    {
      "cell_type": "markdown",
      "metadata": {},
      "source": [
        "## Plot Metric Comparisons by Stage"
      ]
    },
    {
      "cell_type": "markdown",
      "metadata": {},
      "source": []
    },
    {
      "cell_type": "code",
      "execution_count": null,
      "metadata": {},
      "outputs": [],
      "source": [
        "metrics = ['Accuracy', 'Balanced Accuracy', 'F1 Macro', 'F1 Weighted']\n",
        "\n",
        "for metric in metrics:\n",
        "    plt.figure(figsize=(10, 6))\n",
        "    sns.barplot(data=df_all, x=metric, y='Model', hue='stage', palette='Set2')\n",
        "    plt.title(f\"{metric.replace('_', ' ').title()} by Model and Stage\")\n",
        "    plt.xlabel(metric.title())\n",
        "    plt.ylabel(\"Model\")\n",
        "    plt.legend(title=\"Evaluation Stage\")\n",
        "    plt.tight_layout()\n",
        "    plt.savefig(figure_path / f\"models_{metric}_stage_comparison.png\")\n",
        "    plt.show()"
      ]
    },
    {
      "cell_type": "markdown",
      "metadata": {},
      "source": [
        "* "
      ]
    },
    {
      "cell_type": "markdown",
      "metadata": {},
      "source": [
        "## Plot Confusion Matrix for Final Model"
      ]
    },
    {
      "cell_type": "markdown",
      "metadata": {},
      "source": []
    },
    {
      "cell_type": "code",
      "execution_count": null,
      "metadata": {},
      "outputs": [],
      "source": [
        "# Load final model and test data\n",
        "final_model_path = project_root / \"outputs\" / \"ml_pipeline\" / \"default_best_model.pkl\"\n",
        "final_model = joblib.load(final_model_path)\n",
        "\n",
        "# Predict\n",
        "y_pred = final_model.predict(X_test_scaled)\n",
        "\n",
        "# Confusion matrix\n",
        "cm = confusion_matrix(y_test, y_pred)\n",
        "disp = ConfusionMatrixDisplay(confusion_matrix=cm, display_labels=final_model.classes_)\n",
        "\n",
        "# Plot and save\n",
        "plt.figure(figsize=(8, 6))\n",
        "disp.plot(cmap=\"Blues\", values_format='d')\n",
        "plt.title(\"Confusion Matrix: Final Random Forest\")\n",
        "plt.savefig(figure_path / \"final_model_confusion_matrix.png\")\n",
        "plt.show()"
      ]
    },
    {
      "cell_type": "markdown",
      "metadata": {},
      "source": []
    },
    {
      "cell_type": "markdown",
      "metadata": {},
      "source": [
        "## Plot Feature Importance for Final Model"
      ]
    },
    {
      "cell_type": "markdown",
      "metadata": {},
      "source": []
    },
    {
      "cell_type": "code",
      "execution_count": null,
      "metadata": {},
      "outputs": [],
      "source": [
        "# Get feature importances\n",
        "feature_importances = final_model.feature_importances_\n",
        "feature_names = X_train_resampled.columns  # match features to importance\n",
        "\n",
        "# Create DataFrame\n",
        "df_feat_imp = pd.DataFrame({\n",
        "    'feature': feature_names,\n",
        "    'importance': feature_importances\n",
        "}).sort_values(by='importance', ascending=False)\n",
        "\n",
        "# Plot top 15\n",
        "plt.figure(figsize=(10, 6))\n",
        "sns.barplot(data=df_feat_imp.head(15), x='importance', y='feature', palette='viridis')\n",
        "plt.title(\"Top 15 Feature Importances - Final Random Forest\")\n",
        "plt.tight_layout()\n",
        "plt.savefig(figure_path / \"final_feature_importances.png\")\n",
        "plt.show()"
      ]
    },
    {
      "cell_type": "markdown",
      "metadata": {},
      "source": [
        "---"
      ]
    },
    {
      "cell_type": "markdown",
      "metadata": {
        "id": "ltNetd085qHf"
      },
      "source": [
        "# Conclusion and Next Steps"
      ]
    },
    {
      "cell_type": "markdown",
      "metadata": {},
      "source": [
        "* "
      ]
    }
  ],
  "metadata": {
    "accelerator": "GPU",
    "colab": {
      "name": "Data Practitioner Jupyter Notebook.ipynb",
      "provenance": [],
      "toc_visible": true
    },
    "kernelspec": {
      "display_name": ".venv",
      "language": "python",
      "name": "python3"
    },
    "language_info": {
      "codemirror_mode": {
        "name": "ipython",
        "version": 3
      },
      "file_extension": ".py",
      "mimetype": "text/x-python",
      "name": "python",
      "nbconvert_exporter": "python",
      "pygments_lexer": "ipython3",
      "version": "3.12.8"
    },
    "orig_nbformat": 2
  },
  "nbformat": 4,
  "nbformat_minor": 2
}
