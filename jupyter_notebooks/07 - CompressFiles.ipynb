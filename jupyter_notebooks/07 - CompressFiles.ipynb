{
  "cells": [
    {
      "cell_type": "markdown",
      "metadata": {
        "id": "0aStgWSO0E0E"
      },
      "source": [
        "# **COMPRESS FILES NOTEBOOK**"
      ]
    },
    {
      "cell_type": "markdown",
      "metadata": {
        "id": "1eLEkw5O0ECa"
      },
      "source": [
        "## Objectives\n",
        "\n",
        "* Compress .csv and .pkl files to get smaller file size for push to GitHub and rendering app on Render. \n",
        "\n",
        "## Inputs\n",
        "\n",
        "* Android_Malware.csv\n",
        "* Android_Malware_converted.csv\n",
        "* X_test_scaled.csv\n",
        "* best_model_fe_results.csv\n",
        "* best_model_final_results.csv\n",
        "* model_training_results.csv\n",
        "* model_tuning_results.csv\n",
        "* default_best_model.pkl\n",
        "\n",
        "## Outputs\n",
        "\n",
        "* Android_Malware.csv.gz\n",
        "* Android_Malware_converted.csv.gz\n",
        "* X_test_scaled.csv.gz\n",
        "* best_model_fe_results.csv.gz\n",
        "* best_model_final_results.csv.gz\n",
        "* model_training_results.csv.gz\n",
        "* model_tuning_results.csv.gz\n",
        "* default_best_model.pkl.gz"
      ]
    },
    {
      "cell_type": "markdown",
      "metadata": {
        "id": "9uWZXH9LwoQg"
      },
      "source": [
        "---"
      ]
    },
    {
      "cell_type": "markdown",
      "metadata": {},
      "source": [
        "# Set Project Root Directory"
      ]
    },
    {
      "cell_type": "markdown",
      "metadata": {},
      "source": [
        "Centralise the base path using project_root"
      ]
    },
    {
      "cell_type": "code",
      "execution_count": null,
      "metadata": {},
      "outputs": [],
      "source": [
        "import os\n",
        "from pathlib import Path\n",
        "\n",
        "# Resolve the project root\n",
        "project_root = Path.cwd()\n",
        "if project_root.name == \"jupyter_notebooks\":\n",
        "    project_root = project_root.parent"
      ]
    },
    {
      "cell_type": "markdown",
      "metadata": {
        "id": "cqP-UeN-z3i2"
      },
      "source": [
        "# Compress CSV Files"
      ]
    },
    {
      "cell_type": "code",
      "execution_count": null,
      "metadata": {
        "id": "wZfF_j-Bz3i4",
        "outputId": "66943449-1436-4c3d-85c7-b85f9f78349b"
      },
      "outputs": [],
      "source": [
        "import pandas as pd\n",
        "import os\n",
        "\n",
        "# List os CSV files to compress\n",
        "csv_files = [\n",
        "    project_root / \"inputs/datasets/raw/Android_Malware.csv\",\n",
        "    project_root / \"outputs/data/Android_Malware_converted.csv\",\n",
        "    project_root / \"outputs/data/X_test_scaled.csv\",\n",
        "    project_root / \"outputs/evaluation/best_model_fe_results.csv\",\n",
        "    project_root / \"outputs/evaluation/best_model_final_results.csv\",\n",
        "    project_root / \"outputs/evaluation/model_training_results.csv\",\n",
        "    project_root / \"outputs/evaluation/model_tuning_results.csv\",\n",
        "]\n",
        "\n",
        "# Compress files with gzip for .csv.gz output files\n",
        "for file_path in csv_files:\n",
        "    if file_path.exists():\n",
        "        print(f\"Compressing: {file_path}\")\n",
        "        df = pd.read_csv(file_path)\n",
        "        compressed_path = file_path.with_suffix(file_path.suffix + \".gz\")\n",
        "        df.to_csv(compressed_path.as_posix(), index=False, compression='gzip')\n",
        "        print(f\"Saved compressed file: {compressed_path}\")\n",
        "    else:\n",
        "        print(f\"File not found: {file_path}\")"
      ]
    },
    {
      "cell_type": "markdown",
      "metadata": {},
      "source": [
        "## Compress PKL Files"
      ]
    },
    {
      "cell_type": "code",
      "execution_count": null,
      "metadata": {},
      "outputs": [],
      "source": [
        "import joblib\n",
        "import compress_pickle as cpickle\n",
        "\n",
        "# Load model\n",
        "model_path = project_root / \"outputs\" / \"ml_pipeline\" / \"default_best_model.pkl\"\n",
        "default_best_model = joblib.load(model_path)\n",
        "\n",
        "# Path to save compressed model\n",
        "compressed_model_path = project_root / \"outputs\" / \"ml_pipeline\" / \"default_best_model.pkl.gz\"\n",
        "\n",
        "# Save with gzip compression\n",
        "cpickle.dump(default_best_model, compressed_model_path, compression=\"gzip\")\n",
        "\n",
        "print(f\"Saved compressed file: {compressed_model_path}\")"
      ]
    },
    {
      "cell_type": "markdown",
      "metadata": {
        "id": "ZY3l0-AxO93d"
      },
      "source": [
        "---"
      ]
    },
    {
      "cell_type": "markdown",
      "metadata": {},
      "source": [
        "# Conclusion & Notes"
      ]
    },
    {
      "cell_type": "markdown",
      "metadata": {},
      "source": [
        "* Needed .csv files were compressed to allow pushing to GitHub\n",
        "* Needed .pkl files were compressed to allow pushing to GitHub\n",
        "* The library [compress_pickle](https://lucianopaz.github.io/compress_pickle/html/) was used to compress the .pkl file. \n",
        "* Additionally, [Git Large File Storage](https://git-lfs.com/) was used to allow larger files to push to GitHub"
      ]
    }
  ],
  "metadata": {
    "accelerator": "GPU",
    "colab": {
      "name": "Data Practitioner Jupyter Notebook.ipynb",
      "provenance": [],
      "toc_visible": true
    },
    "kernelspec": {
      "display_name": ".venv",
      "language": "python",
      "name": "python3"
    },
    "language_info": {
      "codemirror_mode": {
        "name": "ipython",
        "version": 3
      },
      "file_extension": ".py",
      "mimetype": "text/x-python",
      "name": "python",
      "nbconvert_exporter": "python",
      "pygments_lexer": "ipython3",
      "version": "3.12.8"
    },
    "orig_nbformat": 2
  },
  "nbformat": 4,
  "nbformat_minor": 2
}
